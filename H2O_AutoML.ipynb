{
 "cells": [
  {
   "cell_type": "code",
   "execution_count": 3,
   "metadata": {},
   "outputs": [
    {
     "name": "stdout",
     "output_type": "stream",
     "text": [
      "Checking whether there is an H2O instance running at http://localhost:54321. connected.\n"
     ]
    },
    {
     "data": {
      "text/html": [
       "<div style=\"overflow:auto\"><table style=\"width:50%\"><tr><td>H2O cluster uptime:</td>\n",
       "<td>1 min 44 secs</td></tr>\n",
       "<tr><td>H2O cluster timezone:</td>\n",
       "<td>America/Los_Angeles</td></tr>\n",
       "<tr><td>H2O data parsing timezone:</td>\n",
       "<td>UTC</td></tr>\n",
       "<tr><td>H2O cluster version:</td>\n",
       "<td>3.18.0.5</td></tr>\n",
       "<tr><td>H2O cluster version age:</td>\n",
       "<td>12 days </td></tr>\n",
       "<tr><td>H2O cluster name:</td>\n",
       "<td>H2O_from_python_ISHIKAWA_akx2o3</td></tr>\n",
       "<tr><td>H2O cluster total nodes:</td>\n",
       "<td>1</td></tr>\n",
       "<tr><td>H2O cluster free memory:</td>\n",
       "<td>2.590 Gb</td></tr>\n",
       "<tr><td>H2O cluster total cores:</td>\n",
       "<td>4</td></tr>\n",
       "<tr><td>H2O cluster allowed cores:</td>\n",
       "<td>4</td></tr>\n",
       "<tr><td>H2O cluster status:</td>\n",
       "<td>locked, healthy</td></tr>\n",
       "<tr><td>H2O connection url:</td>\n",
       "<td>http://localhost:54321</td></tr>\n",
       "<tr><td>H2O connection proxy:</td>\n",
       "<td>None</td></tr>\n",
       "<tr><td>H2O internal security:</td>\n",
       "<td>False</td></tr>\n",
       "<tr><td>H2O API Extensions:</td>\n",
       "<td>Algos, AutoML, Core V3, Core V4</td></tr>\n",
       "<tr><td>Python version:</td>\n",
       "<td>3.6.1 final</td></tr></table></div>"
      ],
      "text/plain": [
       "--------------------------  -------------------------------\n",
       "H2O cluster uptime:         1 min 44 secs\n",
       "H2O cluster timezone:       America/Los_Angeles\n",
       "H2O data parsing timezone:  UTC\n",
       "H2O cluster version:        3.18.0.5\n",
       "H2O cluster version age:    12 days\n",
       "H2O cluster name:           H2O_from_python_ISHIKAWA_akx2o3\n",
       "H2O cluster total nodes:    1\n",
       "H2O cluster free memory:    2.590 Gb\n",
       "H2O cluster total cores:    4\n",
       "H2O cluster allowed cores:  4\n",
       "H2O cluster status:         locked, healthy\n",
       "H2O connection url:         http://localhost:54321\n",
       "H2O connection proxy:\n",
       "H2O internal security:      False\n",
       "H2O API Extensions:         Algos, AutoML, Core V3, Core V4\n",
       "Python version:             3.6.1 final\n",
       "--------------------------  -------------------------------"
      ]
     },
     "metadata": {},
     "output_type": "display_data"
    },
    {
     "name": "stdout",
     "output_type": "stream",
     "text": [
      "Parse progress: |█████████████████████████████████████████████████████████| 100%\n",
      "Parse progress: |█████████████████████████████████████████████████████████| 100%\n",
      "AutoML progress: |████████████████████████████████████████████████████████| 100%\n",
      "Parse progress: |█████████████████████████████████████████████████████████| 100%\n",
      "Parse progress: |█████████████████████████████████████████████████████████| 100%\n",
      "stackedensemble prediction progress: |████████████████████████████████████| 100%\n",
      "stackedensemble prediction progress: |████████████████████████████████████| 100%\n"
     ]
    }
   ],
   "source": [
    "import h2o\n",
    "from h2o.automl import H2OAutoML\n",
    "\n",
    "h2o.init()\n",
    "\n",
    "# Import a sample binary outcome train/test set into H2O\n",
    "train = h2o.import_file(\"https://s3.amazonaws.com/erin-data/higgs/higgs_train_10k.csv\")\n",
    "test = h2o.import_file(\"https://s3.amazonaws.com/erin-data/higgs/higgs_test_5k.csv\")\n",
    "\n",
    "# Identify predictors and response\n",
    "x = train.columns\n",
    "y = \"response\"\n",
    "x.remove(y)\n",
    "\n",
    "# For binary classification, response should be a factor\n",
    "train[y] = train[y].asfactor()\n",
    "test[y] = test[y].asfactor()\n",
    "\n",
    "# Run AutoML for 30 seconds\n",
    "aml = H2OAutoML(max_runtime_secs = 30)\n",
    "aml.train(x = x, y = y,\n",
    "          training_frame = train,\n",
    "          leaderboard_frame = test)\n",
    "\n",
    "# View the AutoML Leaderboard\n",
    "lb = aml.leaderboard\n",
    "lb\n",
    "\n",
    "#  model_id                                                    auc    logloss\n",
    "#  ----------------------------------------------------   --------  ---------\n",
    "#  StackedEnsemble_AllModels_0_AutoML_20171121_010846     0.786063   0.555833\n",
    "#  StackedEnsemble_BestOfFamily_0_AutoML_20171121_010846  0.783367   0.558511\n",
    "#  GBM_grid_0_AutoML_20171121_010846_model_1              0.779242   0.562157\n",
    "#  GBM_grid_0_AutoML_20171121_010846_model_0              0.778855   0.562648\n",
    "#  GBM_grid_0_AutoML_20171121_010846_model_3              0.769666   0.572165\n",
    "#  GBM_grid_0_AutoML_20171121_010846_model_2              0.769147   0.572064\n",
    "#  XRT_0_AutoML_20171121_010846                           0.744612   0.593885\n",
    "#  DRF_0_AutoML_20171121_010846                           0.733039   0.608609\n",
    "#  GLM_grid_0_AutoML_20171121_010846_model_0              0.685211   0.635138\n",
    "\n",
    "#  [9 rows x 3 columns]\n",
    "\n",
    "# The leader model is stored here\n",
    "aml.leader\n",
    "\n",
    "\n",
    "# If you need to generate predictions on a test set, you can make\n",
    "# predictions directly on the `\"H2OAutoML\"` object, or on the leader\n",
    "# model object directly\n",
    "\n",
    "preds = aml.predict(test)\n",
    "\n",
    "# or:\n",
    "preds = aml.leader.predict(test)"
   ]
  },
  {
   "cell_type": "code",
   "execution_count": 4,
   "metadata": {},
   "outputs": [
    {
     "data": {
      "text/html": [
       "<table>\n",
       "<thead>\n",
       "<tr><th>model_id                                             </th><th style=\"text-align: right;\">     auc</th><th style=\"text-align: right;\">  logloss</th></tr>\n",
       "</thead>\n",
       "<tbody>\n",
       "<tr><td>StackedEnsemble_AllModels_0_AutoML_20180410_161755   </td><td style=\"text-align: right;\">0.783524</td><td style=\"text-align: right;\"> 0.558156</td></tr>\n",
       "<tr><td>StackedEnsemble_BestOfFamily_0_AutoML_20180410_161755</td><td style=\"text-align: right;\">0.783402</td><td style=\"text-align: right;\"> 0.55825 </td></tr>\n",
       "<tr><td>GBM_grid_0_AutoML_20180410_161755_model_0            </td><td style=\"text-align: right;\">0.777448</td><td style=\"text-align: right;\"> 0.563987</td></tr>\n",
       "<tr><td>GBM_grid_0_AutoML_20180410_161755_model_1            </td><td style=\"text-align: right;\">0.745008</td><td style=\"text-align: right;\"> 0.635643</td></tr>\n",
       "<tr><td>DRF_0_AutoML_20180410_161755                         </td><td style=\"text-align: right;\">0.743599</td><td style=\"text-align: right;\"> 0.596275</td></tr>\n",
       "<tr><td>XRT_0_AutoML_20180410_161755                         </td><td style=\"text-align: right;\">0.742133</td><td style=\"text-align: right;\"> 0.602013</td></tr>\n",
       "<tr><td>GLM_grid_0_AutoML_20180410_161755_model_0            </td><td style=\"text-align: right;\">0.686298</td><td style=\"text-align: right;\"> 0.634806</td></tr>\n",
       "</tbody>\n",
       "</table>"
      ]
     },
     "metadata": {},
     "output_type": "display_data"
    },
    {
     "name": "stdout",
     "output_type": "stream",
     "text": [
      "\n"
     ]
    }
   ],
   "source": [
    "print(lb)"
   ]
  },
  {
   "cell_type": "code",
   "execution_count": 5,
   "metadata": {},
   "outputs": [
    {
     "data": {
      "text/html": [
       "<table>\n",
       "<thead>\n",
       "<tr><th style=\"text-align: right;\">  predict</th><th style=\"text-align: right;\">      p0</th><th style=\"text-align: right;\">      p1</th></tr>\n",
       "</thead>\n",
       "<tbody>\n",
       "<tr><td style=\"text-align: right;\">        0</td><td style=\"text-align: right;\">0.726513</td><td style=\"text-align: right;\">0.273487</td></tr>\n",
       "<tr><td style=\"text-align: right;\">        0</td><td style=\"text-align: right;\">0.680983</td><td style=\"text-align: right;\">0.319017</td></tr>\n",
       "<tr><td style=\"text-align: right;\">        0</td><td style=\"text-align: right;\">0.630493</td><td style=\"text-align: right;\">0.369507</td></tr>\n",
       "<tr><td style=\"text-align: right;\">        1</td><td style=\"text-align: right;\">0.293226</td><td style=\"text-align: right;\">0.706774</td></tr>\n",
       "<tr><td style=\"text-align: right;\">        1</td><td style=\"text-align: right;\">0.520252</td><td style=\"text-align: right;\">0.479748</td></tr>\n",
       "<tr><td style=\"text-align: right;\">        1</td><td style=\"text-align: right;\">0.351178</td><td style=\"text-align: right;\">0.648822</td></tr>\n",
       "<tr><td style=\"text-align: right;\">        1</td><td style=\"text-align: right;\">0.25645 </td><td style=\"text-align: right;\">0.74355 </td></tr>\n",
       "<tr><td style=\"text-align: right;\">        0</td><td style=\"text-align: right;\">0.651173</td><td style=\"text-align: right;\">0.348827</td></tr>\n",
       "<tr><td style=\"text-align: right;\">        1</td><td style=\"text-align: right;\">0.595445</td><td style=\"text-align: right;\">0.404555</td></tr>\n",
       "<tr><td style=\"text-align: right;\">        0</td><td style=\"text-align: right;\">0.728809</td><td style=\"text-align: right;\">0.271191</td></tr>\n",
       "</tbody>\n",
       "</table>"
      ]
     },
     "metadata": {},
     "output_type": "display_data"
    },
    {
     "name": "stdout",
     "output_type": "stream",
     "text": [
      "\n"
     ]
    }
   ],
   "source": [
    "print(preds)"
   ]
  },
  {
   "cell_type": "code",
   "execution_count": 6,
   "metadata": {},
   "outputs": [
    {
     "name": "stdout",
     "output_type": "stream",
     "text": [
      "['x1', 'x2', 'x3', 'x4', 'x5', 'x6', 'x7', 'x8', 'x9', 'x10', 'x11', 'x12', 'x13', 'x14', 'x15', 'x16', 'x17', 'x18', 'x19', 'x20', 'x21', 'x22', 'x23', 'x24', 'x25', 'x26', 'x27', 'x28'] response\n"
     ]
    }
   ],
   "source": [
    "print(x,y)"
   ]
  },
  {
   "cell_type": "code",
   "execution_count": 7,
   "metadata": {},
   "outputs": [
    {
     "data": {
      "text/html": [
       "<table>\n",
       "<thead>\n",
       "<tr><th style=\"text-align: right;\">  response</th><th style=\"text-align: right;\">      x1</th><th style=\"text-align: right;\">       x2</th><th style=\"text-align: right;\">         x3</th><th style=\"text-align: right;\">      x4</th><th style=\"text-align: right;\">       x5</th><th style=\"text-align: right;\">      x6</th><th style=\"text-align: right;\">        x7</th><th style=\"text-align: right;\">        x8</th><th style=\"text-align: right;\">     x9</th><th style=\"text-align: right;\">     x10</th><th style=\"text-align: right;\">      x11</th><th style=\"text-align: right;\">      x12</th><th style=\"text-align: right;\">    x13</th><th style=\"text-align: right;\">     x14</th><th style=\"text-align: right;\">       x15</th><th style=\"text-align: right;\">      x16</th><th style=\"text-align: right;\">    x17</th><th style=\"text-align: right;\">     x18</th><th style=\"text-align: right;\">       x19</th><th style=\"text-align: right;\">        x20</th><th style=\"text-align: right;\">    x21</th><th style=\"text-align: right;\">     x22</th><th style=\"text-align: right;\">     x23</th><th style=\"text-align: right;\">     x24</th><th style=\"text-align: right;\">     x25</th><th style=\"text-align: right;\">     x26</th><th style=\"text-align: right;\">     x27</th><th style=\"text-align: right;\">     x28</th></tr>\n",
       "</thead>\n",
       "<tbody>\n",
       "<tr><td style=\"text-align: right;\">         1</td><td style=\"text-align: right;\">0.869293</td><td style=\"text-align: right;\">-0.635082</td><td style=\"text-align: right;\"> 0.22569   </td><td style=\"text-align: right;\">0.32747 </td><td style=\"text-align: right;\">-0.689993</td><td style=\"text-align: right;\">0.754202</td><td style=\"text-align: right;\">-0.248573 </td><td style=\"text-align: right;\">-1.09206  </td><td style=\"text-align: right;\">0      </td><td style=\"text-align: right;\">1.37499 </td><td style=\"text-align: right;\">-0.653674</td><td style=\"text-align: right;\"> 0.930349</td><td style=\"text-align: right;\">1.10744</td><td style=\"text-align: right;\">1.1389  </td><td style=\"text-align: right;\">-1.5782   </td><td style=\"text-align: right;\">-1.04699 </td><td style=\"text-align: right;\">0      </td><td style=\"text-align: right;\">0.65793 </td><td style=\"text-align: right;\">-0.0104546</td><td style=\"text-align: right;\">-0.0457672 </td><td style=\"text-align: right;\">3.10196</td><td style=\"text-align: right;\">1.35376 </td><td style=\"text-align: right;\">0.979563</td><td style=\"text-align: right;\">0.978076</td><td style=\"text-align: right;\">0.920005</td><td style=\"text-align: right;\">0.721657</td><td style=\"text-align: right;\">0.988751</td><td style=\"text-align: right;\">0.876678</td></tr>\n",
       "<tr><td style=\"text-align: right;\">         1</td><td style=\"text-align: right;\">0.907542</td><td style=\"text-align: right;\"> 0.329147</td><td style=\"text-align: right;\"> 0.359412  </td><td style=\"text-align: right;\">1.49797 </td><td style=\"text-align: right;\">-0.31301 </td><td style=\"text-align: right;\">1.09553 </td><td style=\"text-align: right;\">-0.557525 </td><td style=\"text-align: right;\">-1.58823  </td><td style=\"text-align: right;\">2.17308</td><td style=\"text-align: right;\">0.812581</td><td style=\"text-align: right;\">-0.213642</td><td style=\"text-align: right;\"> 1.27101 </td><td style=\"text-align: right;\">2.21487</td><td style=\"text-align: right;\">0.499994</td><td style=\"text-align: right;\">-1.26143  </td><td style=\"text-align: right;\"> 0.732156</td><td style=\"text-align: right;\">0      </td><td style=\"text-align: right;\">0.398701</td><td style=\"text-align: right;\">-1.13893  </td><td style=\"text-align: right;\">-0.00081911</td><td style=\"text-align: right;\">0      </td><td style=\"text-align: right;\">0.30222 </td><td style=\"text-align: right;\">0.833048</td><td style=\"text-align: right;\">0.9857  </td><td style=\"text-align: right;\">0.978098</td><td style=\"text-align: right;\">0.779732</td><td style=\"text-align: right;\">0.992356</td><td style=\"text-align: right;\">0.798343</td></tr>\n",
       "<tr><td style=\"text-align: right;\">         1</td><td style=\"text-align: right;\">0.798835</td><td style=\"text-align: right;\"> 1.47064 </td><td style=\"text-align: right;\">-1.63597   </td><td style=\"text-align: right;\">0.453773</td><td style=\"text-align: right;\"> 0.425629</td><td style=\"text-align: right;\">1.10487 </td><td style=\"text-align: right;\"> 1.28232  </td><td style=\"text-align: right;\"> 1.38166  </td><td style=\"text-align: right;\">0      </td><td style=\"text-align: right;\">0.851737</td><td style=\"text-align: right;\"> 1.54066 </td><td style=\"text-align: right;\">-0.81969 </td><td style=\"text-align: right;\">2.21487</td><td style=\"text-align: right;\">0.99349 </td><td style=\"text-align: right;\"> 0.35608  </td><td style=\"text-align: right;\">-0.208778</td><td style=\"text-align: right;\">2.54822</td><td style=\"text-align: right;\">1.25695 </td><td style=\"text-align: right;\"> 1.12885  </td><td style=\"text-align: right;\"> 0.900461  </td><td style=\"text-align: right;\">0      </td><td style=\"text-align: right;\">0.909753</td><td style=\"text-align: right;\">1.10833 </td><td style=\"text-align: right;\">0.985692</td><td style=\"text-align: right;\">0.951331</td><td style=\"text-align: right;\">0.803252</td><td style=\"text-align: right;\">0.865924</td><td style=\"text-align: right;\">0.780118</td></tr>\n",
       "<tr><td style=\"text-align: right;\">         0</td><td style=\"text-align: right;\">1.34438 </td><td style=\"text-align: right;\">-0.876626</td><td style=\"text-align: right;\"> 0.935913  </td><td style=\"text-align: right;\">1.99205 </td><td style=\"text-align: right;\"> 0.882454</td><td style=\"text-align: right;\">1.78607 </td><td style=\"text-align: right;\">-1.64678  </td><td style=\"text-align: right;\">-0.942383 </td><td style=\"text-align: right;\">0      </td><td style=\"text-align: right;\">2.42326 </td><td style=\"text-align: right;\">-0.676016</td><td style=\"text-align: right;\"> 0.736159</td><td style=\"text-align: right;\">2.21487</td><td style=\"text-align: right;\">1.29872 </td><td style=\"text-align: right;\">-1.43074  </td><td style=\"text-align: right;\">-0.364658</td><td style=\"text-align: right;\">0      </td><td style=\"text-align: right;\">0.745313</td><td style=\"text-align: right;\">-0.678379 </td><td style=\"text-align: right;\">-1.36036   </td><td style=\"text-align: right;\">0      </td><td style=\"text-align: right;\">0.946652</td><td style=\"text-align: right;\">1.0287  </td><td style=\"text-align: right;\">0.998656</td><td style=\"text-align: right;\">0.728281</td><td style=\"text-align: right;\">0.8692  </td><td style=\"text-align: right;\">1.02674 </td><td style=\"text-align: right;\">0.957904</td></tr>\n",
       "<tr><td style=\"text-align: right;\">         1</td><td style=\"text-align: right;\">1.10501 </td><td style=\"text-align: right;\"> 0.321356</td><td style=\"text-align: right;\"> 1.5224    </td><td style=\"text-align: right;\">0.882808</td><td style=\"text-align: right;\">-1.20535 </td><td style=\"text-align: right;\">0.681466</td><td style=\"text-align: right;\">-1.07046  </td><td style=\"text-align: right;\">-0.921871 </td><td style=\"text-align: right;\">0      </td><td style=\"text-align: right;\">0.800872</td><td style=\"text-align: right;\"> 1.02097 </td><td style=\"text-align: right;\"> 0.971407</td><td style=\"text-align: right;\">2.21487</td><td style=\"text-align: right;\">0.596761</td><td style=\"text-align: right;\">-0.350273 </td><td style=\"text-align: right;\"> 0.631194</td><td style=\"text-align: right;\">0      </td><td style=\"text-align: right;\">0.479999</td><td style=\"text-align: right;\">-0.373566 </td><td style=\"text-align: right;\"> 0.113041  </td><td style=\"text-align: right;\">0      </td><td style=\"text-align: right;\">0.755856</td><td style=\"text-align: right;\">1.36106 </td><td style=\"text-align: right;\">0.98661 </td><td style=\"text-align: right;\">0.838085</td><td style=\"text-align: right;\">1.1333  </td><td style=\"text-align: right;\">0.872245</td><td style=\"text-align: right;\">0.808487</td></tr>\n",
       "<tr><td style=\"text-align: right;\">         0</td><td style=\"text-align: right;\">1.59584 </td><td style=\"text-align: right;\">-0.607811</td><td style=\"text-align: right;\"> 0.00707492</td><td style=\"text-align: right;\">1.81845 </td><td style=\"text-align: right;\">-0.111906</td><td style=\"text-align: right;\">0.84755 </td><td style=\"text-align: right;\">-0.566437 </td><td style=\"text-align: right;\"> 1.58124  </td><td style=\"text-align: right;\">2.17308</td><td style=\"text-align: right;\">0.755421</td><td style=\"text-align: right;\"> 0.64311 </td><td style=\"text-align: right;\"> 1.42637 </td><td style=\"text-align: right;\">0      </td><td style=\"text-align: right;\">0.921661</td><td style=\"text-align: right;\">-1.19043  </td><td style=\"text-align: right;\">-1.61559 </td><td style=\"text-align: right;\">0      </td><td style=\"text-align: right;\">0.651114</td><td style=\"text-align: right;\">-0.654227 </td><td style=\"text-align: right;\">-1.27434   </td><td style=\"text-align: right;\">3.10196</td><td style=\"text-align: right;\">0.823761</td><td style=\"text-align: right;\">0.938191</td><td style=\"text-align: right;\">0.971758</td><td style=\"text-align: right;\">0.789176</td><td style=\"text-align: right;\">0.430553</td><td style=\"text-align: right;\">0.961357</td><td style=\"text-align: right;\">0.957818</td></tr>\n",
       "<tr><td style=\"text-align: right;\">         1</td><td style=\"text-align: right;\">0.409391</td><td style=\"text-align: right;\">-1.88468 </td><td style=\"text-align: right;\">-1.02729   </td><td style=\"text-align: right;\">1.67245 </td><td style=\"text-align: right;\">-1.6046  </td><td style=\"text-align: right;\">1.33801 </td><td style=\"text-align: right;\"> 0.0554274</td><td style=\"text-align: right;\"> 0.0134659</td><td style=\"text-align: right;\">2.17308</td><td style=\"text-align: right;\">0.509783</td><td style=\"text-align: right;\">-1.03834 </td><td style=\"text-align: right;\"> 0.707862</td><td style=\"text-align: right;\">0      </td><td style=\"text-align: right;\">0.746918</td><td style=\"text-align: right;\">-0.358465 </td><td style=\"text-align: right;\">-1.64665 </td><td style=\"text-align: right;\">0      </td><td style=\"text-align: right;\">0.367058</td><td style=\"text-align: right;\"> 0.0694965</td><td style=\"text-align: right;\"> 1.37713   </td><td style=\"text-align: right;\">3.10196</td><td style=\"text-align: right;\">0.869418</td><td style=\"text-align: right;\">1.22208 </td><td style=\"text-align: right;\">1.00063 </td><td style=\"text-align: right;\">0.545045</td><td style=\"text-align: right;\">0.698653</td><td style=\"text-align: right;\">0.977314</td><td style=\"text-align: right;\">0.828786</td></tr>\n",
       "<tr><td style=\"text-align: right;\">         1</td><td style=\"text-align: right;\">0.933895</td><td style=\"text-align: right;\"> 0.62913 </td><td style=\"text-align: right;\"> 0.527535  </td><td style=\"text-align: right;\">0.238033</td><td style=\"text-align: right;\">-0.966569</td><td style=\"text-align: right;\">0.547811</td><td style=\"text-align: right;\">-0.0594392</td><td style=\"text-align: right;\">-1.70687  </td><td style=\"text-align: right;\">2.17308</td><td style=\"text-align: right;\">0.941003</td><td style=\"text-align: right;\">-2.65373 </td><td style=\"text-align: right;\">-0.15722 </td><td style=\"text-align: right;\">0      </td><td style=\"text-align: right;\">1.03037 </td><td style=\"text-align: right;\">-0.175505 </td><td style=\"text-align: right;\"> 0.523021</td><td style=\"text-align: right;\">2.54822</td><td style=\"text-align: right;\">1.37355 </td><td style=\"text-align: right;\"> 1.29125  </td><td style=\"text-align: right;\">-1.46745   </td><td style=\"text-align: right;\">0      </td><td style=\"text-align: right;\">0.901837</td><td style=\"text-align: right;\">1.08367 </td><td style=\"text-align: right;\">0.979696</td><td style=\"text-align: right;\">0.7833  </td><td style=\"text-align: right;\">0.849195</td><td style=\"text-align: right;\">0.894356</td><td style=\"text-align: right;\">0.774879</td></tr>\n",
       "<tr><td style=\"text-align: right;\">         1</td><td style=\"text-align: right;\">1.40514 </td><td style=\"text-align: right;\"> 0.536603</td><td style=\"text-align: right;\"> 0.689554  </td><td style=\"text-align: right;\">1.17957 </td><td style=\"text-align: right;\">-0.110061</td><td style=\"text-align: right;\">3.2024  </td><td style=\"text-align: right;\">-1.52696  </td><td style=\"text-align: right;\">-1.57603  </td><td style=\"text-align: right;\">0      </td><td style=\"text-align: right;\">2.93154 </td><td style=\"text-align: right;\"> 0.567342</td><td style=\"text-align: right;\">-0.130033</td><td style=\"text-align: right;\">2.21487</td><td style=\"text-align: right;\">1.78712 </td><td style=\"text-align: right;\"> 0.899499 </td><td style=\"text-align: right;\"> 0.585151</td><td style=\"text-align: right;\">2.54822</td><td style=\"text-align: right;\">0.401865</td><td style=\"text-align: right;\">-0.151202 </td><td style=\"text-align: right;\"> 1.16349   </td><td style=\"text-align: right;\">0      </td><td style=\"text-align: right;\">1.66707 </td><td style=\"text-align: right;\">4.03927 </td><td style=\"text-align: right;\">1.17583 </td><td style=\"text-align: right;\">1.04535 </td><td style=\"text-align: right;\">1.54297 </td><td style=\"text-align: right;\">3.53483 </td><td style=\"text-align: right;\">2.74075 </td></tr>\n",
       "<tr><td style=\"text-align: right;\">         1</td><td style=\"text-align: right;\">1.17657 </td><td style=\"text-align: right;\"> 0.104161</td><td style=\"text-align: right;\"> 1.397     </td><td style=\"text-align: right;\">0.479721</td><td style=\"text-align: right;\"> 0.265513</td><td style=\"text-align: right;\">1.13556 </td><td style=\"text-align: right;\"> 1.53483  </td><td style=\"text-align: right;\">-0.253291 </td><td style=\"text-align: right;\">0      </td><td style=\"text-align: right;\">1.02725 </td><td style=\"text-align: right;\"> 0.534316</td><td style=\"text-align: right;\"> 1.18002 </td><td style=\"text-align: right;\">0      </td><td style=\"text-align: right;\">2.40566 </td><td style=\"text-align: right;\"> 0.0875568</td><td style=\"text-align: right;\">-0.976534</td><td style=\"text-align: right;\">2.54822</td><td style=\"text-align: right;\">1.25038 </td><td style=\"text-align: right;\"> 0.268541 </td><td style=\"text-align: right;\"> 0.530334  </td><td style=\"text-align: right;\">0      </td><td style=\"text-align: right;\">0.833175</td><td style=\"text-align: right;\">0.773968</td><td style=\"text-align: right;\">0.98575 </td><td style=\"text-align: right;\">1.1037  </td><td style=\"text-align: right;\">0.84914 </td><td style=\"text-align: right;\">0.937104</td><td style=\"text-align: right;\">0.812364</td></tr>\n",
       "</tbody>\n",
       "</table>"
      ]
     },
     "metadata": {},
     "output_type": "display_data"
    },
    {
     "name": "stdout",
     "output_type": "stream",
     "text": [
      "\n"
     ]
    }
   ],
   "source": [
    "print(train)"
   ]
  },
  {
   "cell_type": "code",
   "execution_count": 8,
   "metadata": {},
   "outputs": [
    {
     "data": {
      "text/html": [
       "<table>\n",
       "<thead>\n",
       "<tr><th style=\"text-align: right;\">  response</th><th style=\"text-align: right;\">      x1</th><th style=\"text-align: right;\">       x2</th><th style=\"text-align: right;\">       x3</th><th style=\"text-align: right;\">      x4</th><th style=\"text-align: right;\">        x5</th><th style=\"text-align: right;\">      x6</th><th style=\"text-align: right;\">        x7</th><th style=\"text-align: right;\">       x8</th><th style=\"text-align: right;\">     x9</th><th style=\"text-align: right;\">     x10</th><th style=\"text-align: right;\">        x11</th><th style=\"text-align: right;\">       x12</th><th style=\"text-align: right;\">    x13</th><th style=\"text-align: right;\">     x14</th><th style=\"text-align: right;\">       x15</th><th style=\"text-align: right;\">      x16</th><th style=\"text-align: right;\">    x17</th><th style=\"text-align: right;\">     x18</th><th style=\"text-align: right;\">        x19</th><th style=\"text-align: right;\">       x20</th><th style=\"text-align: right;\">    x21</th><th style=\"text-align: right;\">     x22</th><th style=\"text-align: right;\">     x23</th><th style=\"text-align: right;\">     x24</th><th style=\"text-align: right;\">     x25</th><th style=\"text-align: right;\">     x26</th><th style=\"text-align: right;\">     x27</th><th style=\"text-align: right;\">     x28</th></tr>\n",
       "</thead>\n",
       "<tbody>\n",
       "<tr><td style=\"text-align: right;\">         0</td><td style=\"text-align: right;\">0.623878</td><td style=\"text-align: right;\"> 0.459659</td><td style=\"text-align: right;\">-0.316512</td><td style=\"text-align: right;\">1.55701 </td><td style=\"text-align: right;\"> 0.644784 </td><td style=\"text-align: right;\">0.455929</td><td style=\"text-align: right;\">-2.24983  </td><td style=\"text-align: right;\">-0.361949</td><td style=\"text-align: right;\">0      </td><td style=\"text-align: right;\">0.832978</td><td style=\"text-align: right;\"> 1.41147   </td><td style=\"text-align: right;\"> 1.52846  </td><td style=\"text-align: right;\">0      </td><td style=\"text-align: right;\">0.722857</td><td style=\"text-align: right;\"> 1.00964  </td><td style=\"text-align: right;\"> 0.999539</td><td style=\"text-align: right;\">0      </td><td style=\"text-align: right;\">1.19099 </td><td style=\"text-align: right;\"> 0.81404   </td><td style=\"text-align: right;\">-0.879803 </td><td style=\"text-align: right;\">3.10196</td><td style=\"text-align: right;\">0.583344</td><td style=\"text-align: right;\">0.790246</td><td style=\"text-align: right;\">1.04087 </td><td style=\"text-align: right;\">0.848858</td><td style=\"text-align: right;\">0.229702</td><td style=\"text-align: right;\">0.65594 </td><td style=\"text-align: right;\">0.677857</td></tr>\n",
       "<tr><td style=\"text-align: right;\">         0</td><td style=\"text-align: right;\">1.68204 </td><td style=\"text-align: right;\"> 0.774251</td><td style=\"text-align: right;\"> 1.32875 </td><td style=\"text-align: right;\">0.234729</td><td style=\"text-align: right;\">-0.55783  </td><td style=\"text-align: right;\">0.442921</td><td style=\"text-align: right;\">-0.0832048</td><td style=\"text-align: right;\"> 1.08119 </td><td style=\"text-align: right;\">2.17308</td><td style=\"text-align: right;\">1.14585 </td><td style=\"text-align: right;\"> 0.16228   </td><td style=\"text-align: right;\">-0.268187 </td><td style=\"text-align: right;\">0      </td><td style=\"text-align: right;\">1.21407 </td><td style=\"text-align: right;\"> 0.194966 </td><td style=\"text-align: right;\">-1.15627 </td><td style=\"text-align: right;\">2.54822</td><td style=\"text-align: right;\">1.01915 </td><td style=\"text-align: right;\">-0.759163  </td><td style=\"text-align: right;\"> 0.136347 </td><td style=\"text-align: right;\">0      </td><td style=\"text-align: right;\">0.94183 </td><td style=\"text-align: right;\">0.941976</td><td style=\"text-align: right;\">0.98816 </td><td style=\"text-align: right;\">0.86435 </td><td style=\"text-align: right;\">0.835132</td><td style=\"text-align: right;\">0.767871</td><td style=\"text-align: right;\">0.833013</td></tr>\n",
       "<tr><td style=\"text-align: right;\">         1</td><td style=\"text-align: right;\">1.09403 </td><td style=\"text-align: right;\">-0.88734 </td><td style=\"text-align: right;\"> 0.949229</td><td style=\"text-align: right;\">0.410261</td><td style=\"text-align: right;\">-1.55868  </td><td style=\"text-align: right;\">0.523352</td><td style=\"text-align: right;\"> 0.131675 </td><td style=\"text-align: right;\"> 0.304513</td><td style=\"text-align: right;\">0      </td><td style=\"text-align: right;\">1.11916 </td><td style=\"text-align: right;\"> 1.09383   </td><td style=\"text-align: right;\">-0.396352 </td><td style=\"text-align: right;\">2.21487</td><td style=\"text-align: right;\">0.6289  </td><td style=\"text-align: right;\"> 0.628245 </td><td style=\"text-align: right;\"> 1.45775 </td><td style=\"text-align: right;\">0      </td><td style=\"text-align: right;\">0.523082</td><td style=\"text-align: right;\"> 0.508394  </td><td style=\"text-align: right;\"> 0.988137 </td><td style=\"text-align: right;\">0      </td><td style=\"text-align: right;\">0.929989</td><td style=\"text-align: right;\">0.973742</td><td style=\"text-align: right;\">0.989141</td><td style=\"text-align: right;\">0.780519</td><td style=\"text-align: right;\">0.749821</td><td style=\"text-align: right;\">0.887545</td><td style=\"text-align: right;\">0.925278</td></tr>\n",
       "<tr><td style=\"text-align: right;\">         0</td><td style=\"text-align: right;\">1.33871 </td><td style=\"text-align: right;\">-0.899027</td><td style=\"text-align: right;\">-1.25534 </td><td style=\"text-align: right;\">0.884285</td><td style=\"text-align: right;\">-0.747925 </td><td style=\"text-align: right;\">0.547445</td><td style=\"text-align: right;\">-0.79518  </td><td style=\"text-align: right;\"> 0.174235</td><td style=\"text-align: right;\">2.17308</td><td style=\"text-align: right;\">0.771663</td><td style=\"text-align: right;\">-0.31855   </td><td style=\"text-align: right;\"> 1.02356  </td><td style=\"text-align: right;\">2.21487</td><td style=\"text-align: right;\">0.408495</td><td style=\"text-align: right;\">-1.1431   </td><td style=\"text-align: right;\"> 0.139699</td><td style=\"text-align: right;\">0      </td><td style=\"text-align: right;\">1.29395 </td><td style=\"text-align: right;\">-1.34131   </td><td style=\"text-align: right;\"> 1.61685  </td><td style=\"text-align: right;\">0      </td><td style=\"text-align: right;\">0.79204 </td><td style=\"text-align: right;\">0.76921 </td><td style=\"text-align: right;\">0.984082</td><td style=\"text-align: right;\">1.06928 </td><td style=\"text-align: right;\">0.700852</td><td style=\"text-align: right;\">0.83083 </td><td style=\"text-align: right;\">0.71671 </td></tr>\n",
       "<tr><td style=\"text-align: right;\">         0</td><td style=\"text-align: right;\">0.699095</td><td style=\"text-align: right;\"> 1.43363 </td><td style=\"text-align: right;\">-1.72253 </td><td style=\"text-align: right;\">0.650113</td><td style=\"text-align: right;\">-0.167574 </td><td style=\"text-align: right;\">0.967464</td><td style=\"text-align: right;\"> 0.737696 </td><td style=\"text-align: right;\">-0.886391</td><td style=\"text-align: right;\">2.17308</td><td style=\"text-align: right;\">1.66797 </td><td style=\"text-align: right;\"> 0.446892  </td><td style=\"text-align: right;\"> 0.851008 </td><td style=\"text-align: right;\">0      </td><td style=\"text-align: right;\">0.59641 </td><td style=\"text-align: right;\"> 0.156736 </td><td style=\"text-align: right;\"> 0.340513</td><td style=\"text-align: right;\">0      </td><td style=\"text-align: right;\">0.694684</td><td style=\"text-align: right;\">-0.00046069</td><td style=\"text-align: right;\">-1.14949  </td><td style=\"text-align: right;\">3.10196</td><td style=\"text-align: right;\">0.714182</td><td style=\"text-align: right;\">0.839843</td><td style=\"text-align: right;\">0.984067</td><td style=\"text-align: right;\">0.917766</td><td style=\"text-align: right;\">0.388553</td><td style=\"text-align: right;\">0.91664 </td><td style=\"text-align: right;\">0.886331</td></tr>\n",
       "<tr><td style=\"text-align: right;\">         1</td><td style=\"text-align: right;\">0.842208</td><td style=\"text-align: right;\">-0.144202</td><td style=\"text-align: right;\">-1.702   </td><td style=\"text-align: right;\">0.685875</td><td style=\"text-align: right;\"> 0.544338 </td><td style=\"text-align: right;\">0.578774</td><td style=\"text-align: right;\">-0.221837 </td><td style=\"text-align: right;\">-0.586474</td><td style=\"text-align: right;\">1.08654</td><td style=\"text-align: right;\">0.909401</td><td style=\"text-align: right;\"> 2.81316   </td><td style=\"text-align: right;\">-0.0706666</td><td style=\"text-align: right;\">0      </td><td style=\"text-align: right;\">1.54986 </td><td style=\"text-align: right;\">-0.85182  </td><td style=\"text-align: right;\"> 1.58811 </td><td style=\"text-align: right;\">0      </td><td style=\"text-align: right;\">1.14986 </td><td style=\"text-align: right;\"> 0.590011  </td><td style=\"text-align: right;\"> 0.0597691</td><td style=\"text-align: right;\">0      </td><td style=\"text-align: right;\">0.872279</td><td style=\"text-align: right;\">0.684341</td><td style=\"text-align: right;\">0.99032 </td><td style=\"text-align: right;\">0.510151</td><td style=\"text-align: right;\">0.720446</td><td style=\"text-align: right;\">0.555454</td><td style=\"text-align: right;\">0.535795</td></tr>\n",
       "<tr><td style=\"text-align: right;\">         1</td><td style=\"text-align: right;\">0.456242</td><td style=\"text-align: right;\"> 1.74043 </td><td style=\"text-align: right;\"> 0.258427</td><td style=\"text-align: right;\">1.45223 </td><td style=\"text-align: right;\">-0.0513728</td><td style=\"text-align: right;\">0.675328</td><td style=\"text-align: right;\">-0.797161 </td><td style=\"text-align: right;\">-1.34763 </td><td style=\"text-align: right;\">2.17308</td><td style=\"text-align: right;\">0.56858 </td><td style=\"text-align: right;\">-0.482712  </td><td style=\"text-align: right;\">-1.73738  </td><td style=\"text-align: right;\">0      </td><td style=\"text-align: right;\">0.539333</td><td style=\"text-align: right;\"> 1.17621  </td><td style=\"text-align: right;\"> 1.06666 </td><td style=\"text-align: right;\">0      </td><td style=\"text-align: right;\">0.980687</td><td style=\"text-align: right;\">-0.125384  </td><td style=\"text-align: right;\"> 0.0869597</td><td style=\"text-align: right;\">3.10196</td><td style=\"text-align: right;\">0.994118</td><td style=\"text-align: right;\">0.960552</td><td style=\"text-align: right;\">1.00353 </td><td style=\"text-align: right;\">0.57609 </td><td style=\"text-align: right;\">0.876509</td><td style=\"text-align: right;\">0.85138 </td><td style=\"text-align: right;\">0.801164</td></tr>\n",
       "<tr><td style=\"text-align: right;\">         0</td><td style=\"text-align: right;\">0.933712</td><td style=\"text-align: right;\"> 1.35084 </td><td style=\"text-align: right;\"> 0.773338</td><td style=\"text-align: right;\">0.532638</td><td style=\"text-align: right;\">-0.679537 </td><td style=\"text-align: right;\">0.718017</td><td style=\"text-align: right;\"> 0.745618 </td><td style=\"text-align: right;\">-1.4962  </td><td style=\"text-align: right;\">1.08654</td><td style=\"text-align: right;\">0.274218</td><td style=\"text-align: right;\"> 1.07537   </td><td style=\"text-align: right;\"> 1.56341  </td><td style=\"text-align: right;\">0      </td><td style=\"text-align: right;\">0.39146 </td><td style=\"text-align: right;\">-0.59422  </td><td style=\"text-align: right;\"> 0.170209</td><td style=\"text-align: right;\">2.54822</td><td style=\"text-align: right;\">0.573711</td><td style=\"text-align: right;\"> 2.12157   </td><td style=\"text-align: right;\"> 0.256763 </td><td style=\"text-align: right;\">0      </td><td style=\"text-align: right;\">0.625972</td><td style=\"text-align: right;\">0.773067</td><td style=\"text-align: right;\">0.987348</td><td style=\"text-align: right;\">0.674946</td><td style=\"text-align: right;\">0.829309</td><td style=\"text-align: right;\">0.645423</td><td style=\"text-align: right;\">0.597715</td></tr>\n",
       "<tr><td style=\"text-align: right;\">         0</td><td style=\"text-align: right;\">0.7335  </td><td style=\"text-align: right;\">-0.998372</td><td style=\"text-align: right;\">-1.68702 </td><td style=\"text-align: right;\">0.951169</td><td style=\"text-align: right;\">-0.591779 </td><td style=\"text-align: right;\">1.14912 </td><td style=\"text-align: right;\">-0.942724 </td><td style=\"text-align: right;\">-0.424039</td><td style=\"text-align: right;\">2.17308</td><td style=\"text-align: right;\">1.04185 </td><td style=\"text-align: right;\"> 1.10063   </td><td style=\"text-align: right;\"> 1.27434  </td><td style=\"text-align: right;\">0      </td><td style=\"text-align: right;\">0.713549</td><td style=\"text-align: right;\"> 0.0201984</td><td style=\"text-align: right;\"> 0.343287</td><td style=\"text-align: right;\">2.54822</td><td style=\"text-align: right;\">1.44706 </td><td style=\"text-align: right;\"> 0.165271  </td><td style=\"text-align: right;\"> 1.40599  </td><td style=\"text-align: right;\">0      </td><td style=\"text-align: right;\">0.798081</td><td style=\"text-align: right;\">0.852638</td><td style=\"text-align: right;\">0.990337</td><td style=\"text-align: right;\">0.799596</td><td style=\"text-align: right;\">0.918739</td><td style=\"text-align: right;\">1.27283 </td><td style=\"text-align: right;\">1.07795 </td></tr>\n",
       "<tr><td style=\"text-align: right;\">         0</td><td style=\"text-align: right;\">0.968118</td><td style=\"text-align: right;\"> 1.719   </td><td style=\"text-align: right;\"> 0.030934</td><td style=\"text-align: right;\">1.80122 </td><td style=\"text-align: right;\">-0.867323 </td><td style=\"text-align: right;\">0.631357</td><td style=\"text-align: right;\">-0.810034 </td><td style=\"text-align: right;\"> 1.20648 </td><td style=\"text-align: right;\">0      </td><td style=\"text-align: right;\">0.88699 </td><td style=\"text-align: right;\"> 0.00103165</td><td style=\"text-align: right;\"> 1.57395  </td><td style=\"text-align: right;\">0      </td><td style=\"text-align: right;\">1.02721 </td><td style=\"text-align: right;\"> 0.512643 </td><td style=\"text-align: right;\"> 0.381009</td><td style=\"text-align: right;\">2.54822</td><td style=\"text-align: right;\">1.08511 </td><td style=\"text-align: right;\"> 0.54837   </td><td style=\"text-align: right;\">-0.86704  </td><td style=\"text-align: right;\">3.10196</td><td style=\"text-align: right;\">0.844315</td><td style=\"text-align: right;\">1.03113 </td><td style=\"text-align: right;\">1.32327 </td><td style=\"text-align: right;\">1.11639 </td><td style=\"text-align: right;\">0.728902</td><td style=\"text-align: right;\">0.805447</td><td style=\"text-align: right;\">1.19234 </td></tr>\n",
       "</tbody>\n",
       "</table>"
      ]
     },
     "metadata": {},
     "output_type": "display_data"
    },
    {
     "name": "stdout",
     "output_type": "stream",
     "text": [
      "\n"
     ]
    }
   ],
   "source": [
    "print(test)"
   ]
  },
  {
   "cell_type": "code",
   "execution_count": 9,
   "metadata": {},
   "outputs": [
    {
     "name": "stdout",
     "output_type": "stream",
     "text": [
      "['__abs__', '__add__', '__and__', '__class__', '__contains__', '__delattr__', '__dict__', '__dir__', '__div__', '__doc__', '__eq__', '__float__', '__floordiv__', '__format__', '__ge__', '__getattribute__', '__getitem__', '__gt__', '__hash__', '__init__', '__init_subclass__', '__int__', '__invert__', '__iter__', '__le__', '__len__', '__lt__', '__mod__', '__module__', '__mul__', '__ne__', '__new__', '__nonzero__', '__or__', '__pow__', '__radd__', '__rand__', '__rdiv__', '__reduce__', '__reduce_ex__', '__repr__', '__rfloordiv__', '__rmod__', '__rmul__', '__ror__', '__rpow__', '__rsub__', '__rtruediv__', '__setattr__', '__setitem__', '__sizeof__', '__str__', '__sub__', '__subclasshook__', '__truediv__', '__unicode__', '__weakref__', '_compute_ncol_update', '_compute_nrow_update', '_ex', '_expr', '_frame', '_import_parse', '_is_expr_in_self', '_is_frame', '_is_frame_in_self', '_parse', '_parse_raw', '_unop', '_upload_parse', '_upload_python_object', '_upload_sparse_matrix', 'abs', 'acos', 'acosh', 'all', 'any', 'any_na_rm', 'anyfactor', 'apply', 'as_data_frame', 'as_date', 'ascharacter', 'asfactor', 'asin', 'asinh', 'asnumeric', 'atan', 'atanh', 'bottomN', 'categories', 'cbind', 'ceil', 'col_names', 'columns', 'columns_by_type', 'concat', 'cor', 'cos', 'cosh', 'cospi', 'countmatches', 'cummax', 'cummin', 'cumprod', 'cumsum', 'cut', 'day', 'dayOfWeek', 'describe', 'difflag1', 'digamma', 'dim', 'distance', 'drop', 'entropy', 'exp', 'expm1', 'fillna', 'filter_na_cols', 'flatten', 'floor', 'frame_id', 'from_python', 'gamma', 'get_frame', 'get_frame_data', 'getrow', 'grep', 'group_by', 'gsub', 'head', 'hist', 'hour', 'idxmax', 'idxmin', 'ifelse', 'impute', 'insert_missing_values', 'interaction', 'isax', 'ischaracter', 'isfactor', 'isin', 'isna', 'isnumeric', 'isstring', 'kfold_column', 'kurtosis', 'levels', 'lgamma', 'log', 'log10', 'log1p', 'log2', 'logical_negation', 'lstrip', 'match', 'max', 'mean', 'median', 'merge', 'min', 'minute', 'mktime', 'modulo_kfold_column', 'moment', 'month', 'mult', 'na_omit', 'nacnt', 'names', 'nchar', 'ncol', 'ncols', 'nlevels', 'nrow', 'nrows', 'num_valid_substrings', 'pivot', 'pop', 'prod', 'quantile', 'rbind', 'refresh', 'relevel', 'rep_len', 'round', 'rstrip', 'runif', 'scale', 'sd', 'second', 'set_level', 'set_levels', 'set_name', 'set_names', 'shape', 'show', 'sign', 'signif', 'sin', 'sinh', 'sinpi', 'skewness', 'sort', 'split_frame', 'sqrt', 'stratified_kfold_column', 'stratified_split', 'strdistance', 'strsplit', 'structure', 'sub', 'substring', 'sum', 'summary', 'table', 'tail', 'tan', 'tanh', 'tanpi', 'tokenize', 'tolower', 'topN', 'topNBottomN', 'toupper', 'transpose', 'trigamma', 'trim', 'trunc', 'type', 'types', 'unique', 'var', 'week', 'which', 'year']\n"
     ]
    }
   ],
   "source": [
    "print(dir(train))"
   ]
  },
  {
   "cell_type": "code",
   "execution_count": 10,
   "metadata": {},
   "outputs": [
    {
     "name": "stdout",
     "output_type": "stream",
     "text": [
      "<class 'h2o.frame.H2OFrame'>\n"
     ]
    }
   ],
   "source": [
    "print(type(train))"
   ]
  },
  {
   "cell_type": "code",
   "execution_count": null,
   "metadata": {
    "collapsed": true
   },
   "outputs": [],
   "source": []
  }
 ],
 "metadata": {
  "kernelspec": {
   "display_name": "Python 3",
   "language": "python",
   "name": "python3"
  },
  "language_info": {
   "codemirror_mode": {
    "name": "ipython",
    "version": 3
   },
   "file_extension": ".py",
   "mimetype": "text/x-python",
   "name": "python",
   "nbconvert_exporter": "python",
   "pygments_lexer": "ipython3",
   "version": "3.6.1"
  }
 },
 "nbformat": 4,
 "nbformat_minor": 2
}
